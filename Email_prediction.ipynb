{
 "cells": [
  {
   "cell_type": "code",
   "execution_count": 2,
   "id": "ce25345d",
   "metadata": {},
   "outputs": [],
   "source": [
    "import pandas as pd\n",
    "import string\n",
    "from nltk.corpus import stopwords\n",
    "from nltk.stem import PorterStemmer\n",
    "from nltk.tokenize import word_tokenize\n",
    "from sklearn.feature_extraction.text import TfidfVectorizer\n",
    "from sklearn.model_selection import train_test_split\n",
    "from sklearn.ensemble import RandomForestClassifier\n",
    "from sklearn.metrics import accuracy_score, classification_report\n",
    "import pickle\n"
   ]
  },
  {
   "cell_type": "code",
   "execution_count": 10,
   "id": "68bfb1c2",
   "metadata": {},
   "outputs": [
    {
     "name": "stderr",
     "output_type": "stream",
     "text": [
      "[nltk_data] Downloading package punkt to\n",
      "[nltk_data]     C:\\Users\\HP\\AppData\\Roaming\\nltk_data...\n",
      "[nltk_data]   Unzipping tokenizers\\punkt.zip.\n",
      "[nltk_data] Downloading package stopwords to\n",
      "[nltk_data]     C:\\Users\\HP\\AppData\\Roaming\\nltk_data...\n",
      "[nltk_data]   Unzipping corpora\\stopwords.zip.\n"
     ]
    },
    {
     "data": {
      "text/plain": [
       "True"
      ]
     },
     "execution_count": 10,
     "metadata": {},
     "output_type": "execute_result"
    }
   ],
   "source": [
    "import string\n",
    "import pandas as pd\n",
    "from nltk.tokenize import word_tokenize\n",
    "from nltk.corpus import stopwords\n",
    "from nltk.stem import PorterStemmer\n",
    "import nltk\n",
    "\n",
    "# Download required NLTK resources\n",
    "nltk.download('punkt')\n",
    "nltk.download('stopwords')\n"
   ]
  },
  {
   "cell_type": "code",
   "execution_count": 32,
   "id": "28bb4586",
   "metadata": {},
   "outputs": [],
   "source": [
    "# Load and preprocess data\n",
    "df = pd.read_csv('C:/Users/HP/Desktop/BE_final/email.csv', encoding='latin-1')\n",
    "df = df.drop([\"Unnamed: 2\", \"Unnamed: 3\", \"Unnamed: 4\"], axis=1)\n",
    "df.columns = [\"label\", \"message\"]\n"
   ]
  },
  {
   "cell_type": "code",
   "execution_count": 33,
   "id": "57b0692b",
   "metadata": {},
   "outputs": [],
   "source": [
    "# Preprocessing function\n",
    "def preprocess_content(text):\n",
    "    stemmer = PorterStemmer()\n",
    "    nopunc = ''.join([char for char in text if char not in string.punctuation])\n",
    "    words = word_tokenize(nopunc.lower())\n",
    "    nostop = [stemmer.stem(word) for word in words if word not in stopwords.words('english') and word.isalpha()]\n",
    "    return ' '.join(nostop)\n",
    "\n",
    "# Apply preprocessing\n",
    "df['cleaned_text'] = df['message'].apply(preprocess_content)\n"
   ]
  },
  {
   "cell_type": "code",
   "execution_count": 34,
   "id": "f61c8db3",
   "metadata": {},
   "outputs": [],
   "source": [
    "tfidf = TfidfVectorizer()\n",
    "X = tfidf.fit_transform(df['cleaned_text'])\n",
    "y = df['label']\n",
    "X_train, X_test, y_train, y_test = train_test_split(X, y, test_size=0.2, random_state=42)\n"
   ]
  },
  {
   "cell_type": "code",
   "execution_count": 35,
   "id": "b6f461fb",
   "metadata": {},
   "outputs": [],
   "source": [
    "# Train model\n",
    "rf_model = RandomForestClassifier()\n",
    "rf_model.fit(X_train, y_train)\n",
    "\n",
    "# Evaluate model\n",
    "rf_preds = rf_model.predict(X_test)\n",
    "rf_accuracy = accuracy_score(y_test, rf_preds)\n",
    "rf_report = classification_report(y_test, rf_preds)"
   ]
  },
  {
   "cell_type": "code",
   "execution_count": 36,
   "id": "4aad4095",
   "metadata": {},
   "outputs": [
    {
     "name": "stdout",
     "output_type": "stream",
     "text": [
      "Random Forest Model:\n",
      "Accuracy: 0.4305\n",
      "Classification Report:\n",
      "                  precision    recall  f1-score   support\n",
      "\n",
      "      Interested       0.44      0.41      0.42       494\n",
      "More information       0.00      0.00      0.00       126\n",
      "  Not Interested       0.44      0.56      0.49       495\n",
      "\n",
      "        accuracy                           0.43      1115\n",
      "       macro avg       0.29      0.32      0.31      1115\n",
      "    weighted avg       0.39      0.43      0.41      1115\n",
      "\n",
      "\n"
     ]
    }
   ],
   "source": [
    "print(\"Random Forest Model:\")\n",
    "print(f'Accuracy: {rf_accuracy:.4f}')\n",
    "print(f'Classification Report:\\n{rf_report}\\n')"
   ]
  },
  {
   "cell_type": "code",
   "execution_count": 37,
   "id": "05d8451f",
   "metadata": {},
   "outputs": [],
   "source": [
    "# Prediction function\n",
    "def predict_class(input_text):\n",
    "    cleaned_input = preprocess_content(input_text)\n",
    "    X_new = tfidf.transform([cleaned_input])\n",
    "    return rf_model.predict(X_new)[0]\n",
    "\n",
    "\n"
   ]
  },
  {
   "cell_type": "code",
   "execution_count": 39,
   "id": "112dc39e",
   "metadata": {},
   "outputs": [
    {
     "name": "stdout",
     "output_type": "stream",
     "text": [
      "Predicted class for 'Ok lar... Joking wif u oni...': Not Interested\n"
     ]
    }
   ],
   "source": [
    "# Test prediction\n",
    "input_text = 'Ok lar... Joking wif u oni...'\n",
    "predicted_class = predict_class(input_text)\n",
    "print(f\"Predicted class for '{input_text}': {predicted_class}\")"
   ]
  },
  {
   "cell_type": "code",
   "execution_count": null,
   "id": "037ddfbd",
   "metadata": {},
   "outputs": [],
   "source": []
  }
 ],
 "metadata": {
  "kernelspec": {
   "display_name": "Python 3 (ipykernel)",
   "language": "python",
   "name": "python3"
  },
  "language_info": {
   "codemirror_mode": {
    "name": "ipython",
    "version": 3
   },
   "file_extension": ".py",
   "mimetype": "text/x-python",
   "name": "python",
   "nbconvert_exporter": "python",
   "pygments_lexer": "ipython3",
   "version": "3.11.4"
  }
 },
 "nbformat": 4,
 "nbformat_minor": 5
}
